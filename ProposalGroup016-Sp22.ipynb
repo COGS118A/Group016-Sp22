{
 "cells": [
  {
   "cell_type": "markdown",
   "metadata": {},
   "source": [
    "# COGS 118A- Project Proposal"
   ]
  },
  {
   "cell_type": "markdown",
   "metadata": {},
   "source": [
    "# Project Description\n",
    "\n",
    "You will design and execute a machine learning project. There are a few constraints on the nature of the allowed project. \n",
    "- The problem addressed will not be a \"toy problem\" or \"common training students problem\" like mtcars, iris, palmer penguins etc.\n",
    "- The dataset will have >1k observations and >5 variables. I'd prefer more like >10k observations and >10 variables. A general rule is that if you have >100x more observations than variables, your solution will likely generalize a lot better. The goal of training a supervised machine learning model is to learn the underlying pattern in a dataset in order to generalize well to unseen data, so choosing a large dataset is very important.\n",
    "\n",
    "- The project will include a model selection and/or feature selection component where you will be looking for the best setup to maximize the performance of your ML system.\n",
    "- You will evaluate the performance of your ML system using more than one appropriate metric\n",
    "- You will be writing a report describing and discussing these accomplishments\n",
    "\n",
    "\n",
    "Feel free to delete this description section when you hand in your proposal."
   ]
  },
  {
   "cell_type": "markdown",
   "metadata": {},
   "source": [
    "### Peer Review\n",
    "\n",
    "You will all have an opportunity to look at the Project Proposals of other groups to fuel your creativity and get more ideas for how you can improve your own projects. \n",
    "\n",
    "Both the project proposal and project checkpoint will have peer review."
   ]
  },
  {
   "cell_type": "markdown",
   "metadata": {},
   "source": [
    "# Names\n",
    "\n",
    "- Satomi Ito\n",
    "- Pudan Xu \n",
    "- Joakim Nguyen\n",
    "- Wilson Tan\n",
    "- Boyong Liu"
   ]
  },
  {
   "cell_type": "markdown",
   "metadata": {},
   "source": [
    "# Abstract \n",
    "\n",
    "Our project is going to be revolved around housing prices in California. We hope to predict and evaluate future housing prices based on various factors. The data sets used represents the housing price trends from the 1990 census. There are ten variables considered into the relationship with California housing prices: longitude, latitude, housingMedianAge, median age of a house within a block; totalRooms, total number of rooms within a block; totalBedrooms, total number of bedrooms within a block; population, households, total number of households, a group of people residing within a home unit, for a block; medianIncome, median income for households within a block of houses; medianHouseValue, median house value for households within a block, and oceanProximity. Adding on, we are also using other datasets that can potentially contribute to the rise of housing prices such as crime rates, natural disasters, demographic, scarcity of housing, etc. We will be using machine learning algorithms to conduct trend studies and to filter through neccessary data. Using these data, we will be able to see a trend and be able to predict if housing prices will increase or decrease and if other factors will affect that change. "
   ]
  },
  {
   "cell_type": "markdown",
   "metadata": {},
   "source": [
    "# Background\n",
    "\n",
    "\n",
    "It is widely acknowledged that housing prices play a significant role in indivual and household' subsistence and investment. For college students like us, we have also experienced a shortage in housing and an inflation in apartment prices. Unfortunately, this increase is a general trend overall in California as the housing prices has been on a gradual rise over these years, which results in many conflicts when people are looking to rent/buy a place. According to a report from the California Association of Realtors, \"the median selling price of a single-family home here increased 11% between December 202 and December 2021. Sky rocketing home prices and their impact on affordability are often cited as a reason for net domestic migration out of California\" <a name=\"zocanote\"></a>[<sup>[1]</sup>](#zoca). However, housing prices can vary due to various factors. The National Associatio of Realtors mentioned that \"median homes sales in San Jose, San Francisco, and Los Angeles respectively came in at 1.65 million dollars, 1.35 million dollars, and 860,000 dollars, in the third quarter of 2021.\" <a name=\"anderson\"></a>[<sup>[2]</sup>](#ander) In this research, we are going to study what makes housing prices in California vary so much in different cities even though they're in the same state. Adding on, we are also going to be considering COVID-19 as it has impacted, not only California, but the world in so many ways. Based on California Housing Market Report & Predictions by Gord Collins, \"the drop in housing sales across California continues throughout January. According to CAR, home sales fell 8.4% year over year, yet were actually up 4.3% from December.\" <a name=\"manage\"></a>[<sup>[3]</sup>](#mana) We will be taking into account for other factors that could have possibly affected the housing market. \n",
    "\n"
   ]
  },
  {
   "cell_type": "markdown",
   "metadata": {},
   "source": [
    "# Problem Statement\n",
    "\n",
    "We want to predict what factors play a role in housing prices in all of California. Supply and demand obviously are deterministic of current prices, but we want to explore the climate of prices as they pertain to housing location. Location data needs to be at least as granular as the size of counties to produce meaningful comparisons among locations. Then, what attributes of location influence housing prices? Factors we can look at must vary by location, for example, ethnic data from census, proximity to coastline, crime and natural disasters, etc. As long as the datasets have a magnitude and location, the values can be mapped to (or nearby to) the housing location and compared to the houses' prices. Given so many variables that may affect housing prices, we need to be very cautious about which we choose to observe to maintain the integrity of our analysis."
   ]
  },
  {
   "cell_type": "markdown",
   "metadata": {},
   "source": [
    "# Data\n",
    "\n",
    "This data set will be used to calculate the relationship in prices for California housings. \n",
    "\n",
    "https://www.kaggle.com/datasets/camnugent/california-housing-prices\n",
    "\n",
    "\n",
    "Althought we do not have the links for the other datasets yet, we have the types of datasets in mind. These datasets will include, the demographic distributions throughout California, the crime rates, natural disaster events, the type of buildings around the houses, proximity to universities, tourism, and average age around the area. There could potentially be more datasets; however, these are the main ones we are going to focus. We are going to be studying the trends in all of our datasets and looking at the relationships between each other the outputs we get when we filter througn the datasets. \n",
    "\n",
    "\n"
   ]
  },
  {
   "cell_type": "markdown",
   "metadata": {},
   "source": [
    "# Proposed Solution\n",
    "We are going to use regression to obtain the weight (parameter) of each factor impacting housing prices using the training dataset and then predict housing prices with these parameters. In detail, we will first set up a loss function with approriate regularization for the training set, and then try to minimize the loss function though gradient descent. The weight vector that minimizes the loss function is just want we need."
   ]
  },
  {
   "cell_type": "markdown",
   "metadata": {},
   "source": [
    "# Evaluation Metrics\n",
    "\n",
    "When training the model, one potential evaluation metric we could use would be the L1 norm. We can take the absolute value of the difference between the predicted price and actual price for each house and sum these differences to get an evaluation value. By using this as our evaluation metric, an evaluation value of 0 would indicate that the model performed perfectly and was able to predict all housing prices correctly. On the other hand, a large evaluation value would indicate that the model performed poorly and the predicted housing prices are incorrect.$$ e = \\sum_{i=1}^{n} |y_i - f(x_i;\\theta)| $$"
   ]
  },
  {
   "cell_type": "markdown",
   "metadata": {},
   "source": [
    "# Ethics & Privacy"
   ]
  },
  {
   "cell_type": "markdown",
   "metadata": {},
   "source": [
    "The data used in this project does not include human participants which removes some ethical issues such as informed consent, exposure of personally identifiable information, and more. However, because we plan to use pre-collected data from sites such as “Kaggle”, we are unsure whether there was any collection bias when the data was collected. One way to help mitigate this issue would be to look for similar data and compare to determine whether the data is consistent across data. We also plan to use data from multiple sources/datasets and need to make sure that data from these different datasets are usable together. For example, if one dataset looks at housing prices in California for 2022, we can’t use a dataset for crime rate in California that isn’t from 2022 because that could be misrepresentative.\n",
    "\n",
    "One unintended use could arise when purchasing and selling houses. The goal of this project is to predict housing prices, not to determine what the housing prices should be. It’s probable that people looking to buy or sell housing will look at these predicted prices to determine what houses are overpriced, whether or not to raise the price of a current house, and other situations that would affect the sale or purchase of a house. A couple of solutions would be to inform users that the predicted price does not determine the value of a house or to completely rollback the project entirely."
   ]
  },
  {
   "cell_type": "markdown",
   "metadata": {},
   "source": [
    "# Team Expectations "
   ]
  },
  {
   "cell_type": "markdown",
   "metadata": {},
   "source": [
    "\n",
    "* *Attend discussion meetings and reaching out to members to help each other out.*\n",
    "* *Everyone must contribute.*\n",
    "* *Meet at least once a week to keep track of progress and set goals*"
   ]
  },
  {
   "cell_type": "markdown",
   "metadata": {},
   "source": [
    "# Project Timeline Proposal"
   ]
  },
  {
   "cell_type": "markdown",
   "metadata": {},
   "source": [
    "Replace this with something meaningful that is appropriate for your needs. It doesn't have to be something that fits this format.  It doesn't have to be set in stone... \"no battle plan survives contact with the enemy\". But you need a battle plan nonetheless, and you need to keep it updated so you understand what you are trying to accomplish, who's responsible for what, and what the expected due dates are for each item.\n",
    "\n",
    "| Meeting Date  | Meeting Time| Completed Before Meeting  | Discuss at Meeting |\n",
    "|---|---|---|---|\n",
    "| 4/20  |  1 PM |  Brainstorm topics/questions (all)  | Determine best form of communication; Discuss and decide on final project topic; discuss hypothesis; begin background research | \n",
    "| 4/21  |  10 AM |  Do background research on topic  | Discuss ideal dataset(s) and ethics; draft project proposal | \n",
    "| 4/24  | 10 AM  | Edit, finalize, and submit proposal; Search for datasets   | Discuss Wrangling and possible analytical approaches; Assign group members to lead each specific part   |\n",
    "| 5/3  | 6 PM  | Import & Wrangle Data ,do some EDA  | Review/Edit wrangling/EDA; Discuss Analysis Plan   |\n",
    "| 5/10  | 12 PM  | Finalize wrangling/EDA; Begin programming for project  | Discuss/edit project code; Complete project |\n",
    "| 5/24  | 12 PM  | Complete analysis; Draft results/conclusion/discussion | Discuss/edit full project |\n",
    "| 6/7  | Before 11:59 PM  | NA | Turn in Final Project  |"
   ]
  },
  {
   "cell_type": "markdown",
   "metadata": {},
   "source": [
    "# Footnotes\n",
    "\n",
    "<a name=\"zocanote\"></a>1.[^](#zoca): CALIFORNIA HOUSING IS BECOMING MORE AFFORDABLE—RELATIVELY, ANYWAY. You Still Get More House for Your Money in Austin or Boise Than L.A. or San Francisco, But the Difference Is Dwindling\n",
    "\n",
    "https://www.zocalopublicsquare.org/2022/04/06/california-housing-is-becoming-more-affordable-relatively-anyway/ideas/essay/\n",
    "\n",
    "\n",
    "\n",
    "<a name=\"anderson\"></a>2.[^](#ander): As Home Prices Soar Elsewhere, California Starts to Seem Almost Reasonable\n",
    "\n",
    "https://anderson-review.ucla.edu/as-home-prices-soar-elsewhere-california-starts-to-seem-almost-reasonable/\n",
    "\n",
    "\n",
    "\n",
    "<a name=\"manage\"></a>3.[^](#mana): California Housing Market Report & Predictions\n",
    "\n",
    "https://managecasa.com/articles/california-housing-market-report/\n"
   ]
  }
 ],
 "metadata": {
  "kernelspec": {
   "display_name": "Python 3",
   "language": "python",
   "name": "python3"
  },
  "language_info": {
   "codemirror_mode": {
    "name": "ipython",
    "version": 3
   },
   "file_extension": ".py",
   "mimetype": "text/x-python",
   "name": "python",
   "nbconvert_exporter": "python",
   "pygments_lexer": "ipython3",
   "version": "3.7.4"
  }
 },
 "nbformat": 4,
 "nbformat_minor": 2
}
